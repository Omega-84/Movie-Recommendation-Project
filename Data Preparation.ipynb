{
 "cells": [
  {
   "cell_type": "code",
   "execution_count": 2,
   "id": "26c36995-26c1-4390-b0de-cd289deacfb3",
   "metadata": {},
   "outputs": [],
   "source": [
    "import pandas as pd\n",
    "import numpy as np\n",
    "from ast import literal_eval as eval\n",
    "from sklearn.preprocessing import StandardScaler\n",
    "from sklearn.model_selection import train_test_split\n",
    "import warnings\n",
    "import requests\n",
    "from bs4 import BeautifulSoup\n",
    "from IPython.core.display import clear_output\n",
    "warnings.filterwarnings(\"ignore\")"
   ]
  },
  {
   "cell_type": "code",
   "execution_count": null,
   "id": "1790ebb1-76e3-4204-bbe1-8069e1bd67b0",
   "metadata": {},
   "outputs": [],
   "source": [
    "df = pd.read_csv(\"imdb_data.csv\",index_col='id')"
   ]
  },
  {
   "cell_type": "code",
   "execution_count": null,
   "id": "23ff4b8e-303d-4f35-92a2-1d2f831512e0",
   "metadata": {},
   "outputs": [
    {
     "data": {
      "text/plain": [
       "(3000, 22)"
      ]
     },
     "execution_count": 3,
     "metadata": {},
     "output_type": "execute_result"
    }
   ],
   "source": [
    "df.shape"
   ]
  },
  {
   "cell_type": "code",
   "execution_count": null,
   "id": "a6a8e5b5-870e-45a0-895a-b2e135dbea7a",
   "metadata": {},
   "outputs": [
    {
     "data": {
      "text/html": [
       "<div>\n",
       "<style scoped>\n",
       "    .dataframe tbody tr th:only-of-type {\n",
       "        vertical-align: middle;\n",
       "    }\n",
       "\n",
       "    .dataframe tbody tr th {\n",
       "        vertical-align: top;\n",
       "    }\n",
       "\n",
       "    .dataframe thead th {\n",
       "        text-align: right;\n",
       "    }\n",
       "</style>\n",
       "<table border=\"1\" class=\"dataframe\">\n",
       "  <thead>\n",
       "    <tr style=\"text-align: right;\">\n",
       "      <th></th>\n",
       "      <th>belongs_to_collection</th>\n",
       "      <th>budget</th>\n",
       "      <th>genres</th>\n",
       "      <th>homepage</th>\n",
       "      <th>imdb_id</th>\n",
       "      <th>original_language</th>\n",
       "      <th>original_title</th>\n",
       "      <th>overview</th>\n",
       "      <th>popularity</th>\n",
       "      <th>poster_path</th>\n",
       "      <th>...</th>\n",
       "      <th>release_date</th>\n",
       "      <th>runtime</th>\n",
       "      <th>spoken_languages</th>\n",
       "      <th>status</th>\n",
       "      <th>tagline</th>\n",
       "      <th>title</th>\n",
       "      <th>Keywords</th>\n",
       "      <th>cast</th>\n",
       "      <th>crew</th>\n",
       "      <th>revenue</th>\n",
       "    </tr>\n",
       "    <tr>\n",
       "      <th>id</th>\n",
       "      <th></th>\n",
       "      <th></th>\n",
       "      <th></th>\n",
       "      <th></th>\n",
       "      <th></th>\n",
       "      <th></th>\n",
       "      <th></th>\n",
       "      <th></th>\n",
       "      <th></th>\n",
       "      <th></th>\n",
       "      <th></th>\n",
       "      <th></th>\n",
       "      <th></th>\n",
       "      <th></th>\n",
       "      <th></th>\n",
       "      <th></th>\n",
       "      <th></th>\n",
       "      <th></th>\n",
       "      <th></th>\n",
       "      <th></th>\n",
       "      <th></th>\n",
       "    </tr>\n",
       "  </thead>\n",
       "  <tbody>\n",
       "    <tr>\n",
       "      <th>1</th>\n",
       "      <td>[{'id': 313576, 'name': 'Hot Tub Time Machine ...</td>\n",
       "      <td>14000000</td>\n",
       "      <td>[{'id': 35, 'name': 'Comedy'}]</td>\n",
       "      <td>NaN</td>\n",
       "      <td>tt2637294</td>\n",
       "      <td>en</td>\n",
       "      <td>Hot Tub Time Machine 2</td>\n",
       "      <td>When Lou, who has become the \"father of the In...</td>\n",
       "      <td>6.575393</td>\n",
       "      <td>/tQtWuwvMf0hCc2QR2tkolwl7c3c.jpg</td>\n",
       "      <td>...</td>\n",
       "      <td>2/20/15</td>\n",
       "      <td>93.0</td>\n",
       "      <td>[{'iso_639_1': 'en', 'name': 'English'}]</td>\n",
       "      <td>Released</td>\n",
       "      <td>The Laws of Space and Time are About to be Vio...</td>\n",
       "      <td>Hot Tub Time Machine 2</td>\n",
       "      <td>[{'id': 4379, 'name': 'time travel'}, {'id': 9...</td>\n",
       "      <td>[{'cast_id': 4, 'character': 'Lou', 'credit_id...</td>\n",
       "      <td>[{'credit_id': '59ac067c92514107af02c8c8', 'de...</td>\n",
       "      <td>12314651</td>\n",
       "    </tr>\n",
       "    <tr>\n",
       "      <th>2</th>\n",
       "      <td>[{'id': 107674, 'name': 'The Princess Diaries ...</td>\n",
       "      <td>40000000</td>\n",
       "      <td>[{'id': 35, 'name': 'Comedy'}, {'id': 18, 'nam...</td>\n",
       "      <td>NaN</td>\n",
       "      <td>tt0368933</td>\n",
       "      <td>en</td>\n",
       "      <td>The Princess Diaries 2: Royal Engagement</td>\n",
       "      <td>Mia Thermopolis is now a college graduate and ...</td>\n",
       "      <td>8.248895</td>\n",
       "      <td>/w9Z7A0GHEhIp7etpj0vyKOeU1Wx.jpg</td>\n",
       "      <td>...</td>\n",
       "      <td>8/6/04</td>\n",
       "      <td>113.0</td>\n",
       "      <td>[{'iso_639_1': 'en', 'name': 'English'}]</td>\n",
       "      <td>Released</td>\n",
       "      <td>It can take a lifetime to find true love; she'...</td>\n",
       "      <td>The Princess Diaries 2: Royal Engagement</td>\n",
       "      <td>[{'id': 2505, 'name': 'coronation'}, {'id': 42...</td>\n",
       "      <td>[{'cast_id': 1, 'character': 'Mia Thermopolis'...</td>\n",
       "      <td>[{'credit_id': '52fe43fe9251416c7502563d', 'de...</td>\n",
       "      <td>95149435</td>\n",
       "    </tr>\n",
       "    <tr>\n",
       "      <th>3</th>\n",
       "      <td>NaN</td>\n",
       "      <td>3300000</td>\n",
       "      <td>[{'id': 18, 'name': 'Drama'}]</td>\n",
       "      <td>http://sonyclassics.com/whiplash/</td>\n",
       "      <td>tt2582802</td>\n",
       "      <td>en</td>\n",
       "      <td>Whiplash</td>\n",
       "      <td>Under the direction of a ruthless instructor, ...</td>\n",
       "      <td>64.299990</td>\n",
       "      <td>/lIv1QinFqz4dlp5U4lQ6HaiskOZ.jpg</td>\n",
       "      <td>...</td>\n",
       "      <td>10/10/14</td>\n",
       "      <td>105.0</td>\n",
       "      <td>[{'iso_639_1': 'en', 'name': 'English'}]</td>\n",
       "      <td>Released</td>\n",
       "      <td>The road to greatness can take you to the edge.</td>\n",
       "      <td>Whiplash</td>\n",
       "      <td>[{'id': 1416, 'name': 'jazz'}, {'id': 1523, 'n...</td>\n",
       "      <td>[{'cast_id': 5, 'character': 'Andrew Neimann',...</td>\n",
       "      <td>[{'credit_id': '54d5356ec3a3683ba0000039', 'de...</td>\n",
       "      <td>13092000</td>\n",
       "    </tr>\n",
       "    <tr>\n",
       "      <th>4</th>\n",
       "      <td>NaN</td>\n",
       "      <td>1200000</td>\n",
       "      <td>[{'id': 53, 'name': 'Thriller'}, {'id': 18, 'n...</td>\n",
       "      <td>http://kahaanithefilm.com/</td>\n",
       "      <td>tt1821480</td>\n",
       "      <td>hi</td>\n",
       "      <td>Kahaani</td>\n",
       "      <td>Vidya Bagchi (Vidya Balan) arrives in Kolkata ...</td>\n",
       "      <td>3.174936</td>\n",
       "      <td>/aTXRaPrWSinhcmCrcfJK17urp3F.jpg</td>\n",
       "      <td>...</td>\n",
       "      <td>3/9/12</td>\n",
       "      <td>122.0</td>\n",
       "      <td>[{'iso_639_1': 'en', 'name': 'English'}, {'iso...</td>\n",
       "      <td>Released</td>\n",
       "      <td>NaN</td>\n",
       "      <td>Kahaani</td>\n",
       "      <td>[{'id': 10092, 'name': 'mystery'}, {'id': 1054...</td>\n",
       "      <td>[{'cast_id': 1, 'character': 'Vidya Bagchi', '...</td>\n",
       "      <td>[{'credit_id': '52fe48779251416c9108d6eb', 'de...</td>\n",
       "      <td>16000000</td>\n",
       "    </tr>\n",
       "    <tr>\n",
       "      <th>5</th>\n",
       "      <td>NaN</td>\n",
       "      <td>0</td>\n",
       "      <td>[{'id': 28, 'name': 'Action'}, {'id': 53, 'nam...</td>\n",
       "      <td>NaN</td>\n",
       "      <td>tt1380152</td>\n",
       "      <td>ko</td>\n",
       "      <td>마린보이</td>\n",
       "      <td>Marine Boy is the story of a former national s...</td>\n",
       "      <td>1.148070</td>\n",
       "      <td>/m22s7zvkVFDU9ir56PiiqIEWFdT.jpg</td>\n",
       "      <td>...</td>\n",
       "      <td>2/5/09</td>\n",
       "      <td>118.0</td>\n",
       "      <td>[{'iso_639_1': 'ko', 'name': '한국어/조선말'}]</td>\n",
       "      <td>Released</td>\n",
       "      <td>NaN</td>\n",
       "      <td>Marine Boy</td>\n",
       "      <td>NaN</td>\n",
       "      <td>[{'cast_id': 3, 'character': 'Chun-soo', 'cred...</td>\n",
       "      <td>[{'credit_id': '52fe464b9251416c75073b43', 'de...</td>\n",
       "      <td>3923970</td>\n",
       "    </tr>\n",
       "  </tbody>\n",
       "</table>\n",
       "<p>5 rows × 22 columns</p>\n",
       "</div>"
      ],
      "text/plain": [
       "                                belongs_to_collection    budget  \\\n",
       "id                                                                \n",
       "1   [{'id': 313576, 'name': 'Hot Tub Time Machine ...  14000000   \n",
       "2   [{'id': 107674, 'name': 'The Princess Diaries ...  40000000   \n",
       "3                                                 NaN   3300000   \n",
       "4                                                 NaN   1200000   \n",
       "5                                                 NaN         0   \n",
       "\n",
       "                                               genres  \\\n",
       "id                                                      \n",
       "1                      [{'id': 35, 'name': 'Comedy'}]   \n",
       "2   [{'id': 35, 'name': 'Comedy'}, {'id': 18, 'nam...   \n",
       "3                       [{'id': 18, 'name': 'Drama'}]   \n",
       "4   [{'id': 53, 'name': 'Thriller'}, {'id': 18, 'n...   \n",
       "5   [{'id': 28, 'name': 'Action'}, {'id': 53, 'nam...   \n",
       "\n",
       "                             homepage    imdb_id original_language  \\\n",
       "id                                                                   \n",
       "1                                 NaN  tt2637294                en   \n",
       "2                                 NaN  tt0368933                en   \n",
       "3   http://sonyclassics.com/whiplash/  tt2582802                en   \n",
       "4          http://kahaanithefilm.com/  tt1821480                hi   \n",
       "5                                 NaN  tt1380152                ko   \n",
       "\n",
       "                              original_title  \\\n",
       "id                                             \n",
       "1                     Hot Tub Time Machine 2   \n",
       "2   The Princess Diaries 2: Royal Engagement   \n",
       "3                                   Whiplash   \n",
       "4                                    Kahaani   \n",
       "5                                       마린보이   \n",
       "\n",
       "                                             overview  popularity  \\\n",
       "id                                                                  \n",
       "1   When Lou, who has become the \"father of the In...    6.575393   \n",
       "2   Mia Thermopolis is now a college graduate and ...    8.248895   \n",
       "3   Under the direction of a ruthless instructor, ...   64.299990   \n",
       "4   Vidya Bagchi (Vidya Balan) arrives in Kolkata ...    3.174936   \n",
       "5   Marine Boy is the story of a former national s...    1.148070   \n",
       "\n",
       "                         poster_path  ... release_date runtime  \\\n",
       "id                                    ...                        \n",
       "1   /tQtWuwvMf0hCc2QR2tkolwl7c3c.jpg  ...      2/20/15    93.0   \n",
       "2   /w9Z7A0GHEhIp7etpj0vyKOeU1Wx.jpg  ...       8/6/04   113.0   \n",
       "3   /lIv1QinFqz4dlp5U4lQ6HaiskOZ.jpg  ...     10/10/14   105.0   \n",
       "4   /aTXRaPrWSinhcmCrcfJK17urp3F.jpg  ...       3/9/12   122.0   \n",
       "5   /m22s7zvkVFDU9ir56PiiqIEWFdT.jpg  ...       2/5/09   118.0   \n",
       "\n",
       "                                     spoken_languages    status  \\\n",
       "id                                                                \n",
       "1            [{'iso_639_1': 'en', 'name': 'English'}]  Released   \n",
       "2            [{'iso_639_1': 'en', 'name': 'English'}]  Released   \n",
       "3            [{'iso_639_1': 'en', 'name': 'English'}]  Released   \n",
       "4   [{'iso_639_1': 'en', 'name': 'English'}, {'iso...  Released   \n",
       "5            [{'iso_639_1': 'ko', 'name': '한국어/조선말'}]  Released   \n",
       "\n",
       "                                              tagline  \\\n",
       "id                                                      \n",
       "1   The Laws of Space and Time are About to be Vio...   \n",
       "2   It can take a lifetime to find true love; she'...   \n",
       "3     The road to greatness can take you to the edge.   \n",
       "4                                                 NaN   \n",
       "5                                                 NaN   \n",
       "\n",
       "                                       title  \\\n",
       "id                                             \n",
       "1                     Hot Tub Time Machine 2   \n",
       "2   The Princess Diaries 2: Royal Engagement   \n",
       "3                                   Whiplash   \n",
       "4                                    Kahaani   \n",
       "5                                 Marine Boy   \n",
       "\n",
       "                                             Keywords  \\\n",
       "id                                                      \n",
       "1   [{'id': 4379, 'name': 'time travel'}, {'id': 9...   \n",
       "2   [{'id': 2505, 'name': 'coronation'}, {'id': 42...   \n",
       "3   [{'id': 1416, 'name': 'jazz'}, {'id': 1523, 'n...   \n",
       "4   [{'id': 10092, 'name': 'mystery'}, {'id': 1054...   \n",
       "5                                                 NaN   \n",
       "\n",
       "                                                 cast  \\\n",
       "id                                                      \n",
       "1   [{'cast_id': 4, 'character': 'Lou', 'credit_id...   \n",
       "2   [{'cast_id': 1, 'character': 'Mia Thermopolis'...   \n",
       "3   [{'cast_id': 5, 'character': 'Andrew Neimann',...   \n",
       "4   [{'cast_id': 1, 'character': 'Vidya Bagchi', '...   \n",
       "5   [{'cast_id': 3, 'character': 'Chun-soo', 'cred...   \n",
       "\n",
       "                                                 crew   revenue  \n",
       "id                                                               \n",
       "1   [{'credit_id': '59ac067c92514107af02c8c8', 'de...  12314651  \n",
       "2   [{'credit_id': '52fe43fe9251416c7502563d', 'de...  95149435  \n",
       "3   [{'credit_id': '54d5356ec3a3683ba0000039', 'de...  13092000  \n",
       "4   [{'credit_id': '52fe48779251416c9108d6eb', 'de...  16000000  \n",
       "5   [{'credit_id': '52fe464b9251416c75073b43', 'de...   3923970  \n",
       "\n",
       "[5 rows x 22 columns]"
      ]
     },
     "execution_count": 4,
     "metadata": {},
     "output_type": "execute_result"
    }
   ],
   "source": [
    "df.head()"
   ]
  },
  {
   "cell_type": "code",
   "execution_count": null,
   "id": "6ad49d4a-c311-46e5-ad1a-0ee24cf4d7ad",
   "metadata": {},
   "outputs": [
    {
     "name": "stdout",
     "output_type": "stream",
     "text": [
      "<class 'pandas.core.frame.DataFrame'>\n",
      "Int64Index: 3000 entries, 1 to 3000\n",
      "Data columns (total 22 columns):\n",
      " #   Column                 Non-Null Count  Dtype  \n",
      "---  ------                 --------------  -----  \n",
      " 0   belongs_to_collection  604 non-null    object \n",
      " 1   budget                 3000 non-null   int64  \n",
      " 2   genres                 2993 non-null   object \n",
      " 3   homepage               946 non-null    object \n",
      " 4   imdb_id                3000 non-null   object \n",
      " 5   original_language      3000 non-null   object \n",
      " 6   original_title         3000 non-null   object \n",
      " 7   overview               2992 non-null   object \n",
      " 8   popularity             3000 non-null   float64\n",
      " 9   poster_path            2999 non-null   object \n",
      " 10  production_companies   2844 non-null   object \n",
      " 11  production_countries   2945 non-null   object \n",
      " 12  release_date           3000 non-null   object \n",
      " 13  runtime                2998 non-null   float64\n",
      " 14  spoken_languages       2980 non-null   object \n",
      " 15  status                 3000 non-null   object \n",
      " 16  tagline                2403 non-null   object \n",
      " 17  title                  3000 non-null   object \n",
      " 18  Keywords               2724 non-null   object \n",
      " 19  cast                   2987 non-null   object \n",
      " 20  crew                   2984 non-null   object \n",
      " 21  revenue                3000 non-null   int64  \n",
      "dtypes: float64(2), int64(2), object(18)\n",
      "memory usage: 539.1+ KB\n"
     ]
    }
   ],
   "source": [
    "df.info()"
   ]
  },
  {
   "cell_type": "code",
   "execution_count": null,
   "id": "ebc4d0ee-b079-4347-b51f-5c8e14f49d76",
   "metadata": {},
   "outputs": [
    {
     "data": {
      "text/html": [
       "<div>\n",
       "<style scoped>\n",
       "    .dataframe tbody tr th:only-of-type {\n",
       "        vertical-align: middle;\n",
       "    }\n",
       "\n",
       "    .dataframe tbody tr th {\n",
       "        vertical-align: top;\n",
       "    }\n",
       "\n",
       "    .dataframe thead th {\n",
       "        text-align: right;\n",
       "    }\n",
       "</style>\n",
       "<table border=\"1\" class=\"dataframe\">\n",
       "  <thead>\n",
       "    <tr style=\"text-align: right;\">\n",
       "      <th></th>\n",
       "      <th>count</th>\n",
       "      <th>mean</th>\n",
       "      <th>std</th>\n",
       "      <th>min</th>\n",
       "      <th>25%</th>\n",
       "      <th>50%</th>\n",
       "      <th>75%</th>\n",
       "      <th>max</th>\n",
       "    </tr>\n",
       "  </thead>\n",
       "  <tbody>\n",
       "    <tr>\n",
       "      <th>budget</th>\n",
       "      <td>3000.0</td>\n",
       "      <td>2.253133e+07</td>\n",
       "      <td>3.702609e+07</td>\n",
       "      <td>0.000000</td>\n",
       "      <td>0.000000e+00</td>\n",
       "      <td>8.000000e+06</td>\n",
       "      <td>2.900000e+07</td>\n",
       "      <td>3.800000e+08</td>\n",
       "    </tr>\n",
       "    <tr>\n",
       "      <th>popularity</th>\n",
       "      <td>3000.0</td>\n",
       "      <td>8.463274e+00</td>\n",
       "      <td>1.210400e+01</td>\n",
       "      <td>0.000001</td>\n",
       "      <td>4.018053e+00</td>\n",
       "      <td>7.374861e+00</td>\n",
       "      <td>1.089098e+01</td>\n",
       "      <td>2.943370e+02</td>\n",
       "    </tr>\n",
       "    <tr>\n",
       "      <th>runtime</th>\n",
       "      <td>2998.0</td>\n",
       "      <td>1.078566e+02</td>\n",
       "      <td>2.208643e+01</td>\n",
       "      <td>0.000000</td>\n",
       "      <td>9.400000e+01</td>\n",
       "      <td>1.040000e+02</td>\n",
       "      <td>1.180000e+02</td>\n",
       "      <td>3.380000e+02</td>\n",
       "    </tr>\n",
       "    <tr>\n",
       "      <th>revenue</th>\n",
       "      <td>3000.0</td>\n",
       "      <td>6.672585e+07</td>\n",
       "      <td>1.375323e+08</td>\n",
       "      <td>1.000000</td>\n",
       "      <td>2.379808e+06</td>\n",
       "      <td>1.680707e+07</td>\n",
       "      <td>6.891920e+07</td>\n",
       "      <td>1.519558e+09</td>\n",
       "    </tr>\n",
       "  </tbody>\n",
       "</table>\n",
       "</div>"
      ],
      "text/plain": [
       "             count          mean           std       min           25%  \\\n",
       "budget      3000.0  2.253133e+07  3.702609e+07  0.000000  0.000000e+00   \n",
       "popularity  3000.0  8.463274e+00  1.210400e+01  0.000001  4.018053e+00   \n",
       "runtime     2998.0  1.078566e+02  2.208643e+01  0.000000  9.400000e+01   \n",
       "revenue     3000.0  6.672585e+07  1.375323e+08  1.000000  2.379808e+06   \n",
       "\n",
       "                     50%           75%           max  \n",
       "budget      8.000000e+06  2.900000e+07  3.800000e+08  \n",
       "popularity  7.374861e+00  1.089098e+01  2.943370e+02  \n",
       "runtime     1.040000e+02  1.180000e+02  3.380000e+02  \n",
       "revenue     1.680707e+07  6.891920e+07  1.519558e+09  "
      ]
     },
     "execution_count": 6,
     "metadata": {},
     "output_type": "execute_result"
    }
   ],
   "source": [
    "df.describe().T"
   ]
  },
  {
   "cell_type": "code",
   "execution_count": null,
   "id": "a0e3524b-c992-47c1-8619-a02a11e55452",
   "metadata": {},
   "outputs": [
    {
     "data": {
      "text/plain": [
       "0"
      ]
     },
     "execution_count": 7,
     "metadata": {},
     "output_type": "execute_result"
    }
   ],
   "source": [
    "df.duplicated().sum()"
   ]
  },
  {
   "cell_type": "code",
   "execution_count": null,
   "id": "a69a4167-5313-4283-b409-02196e17294c",
   "metadata": {},
   "outputs": [
    {
     "data": {
      "text/plain": [
       "belongs_to_collection    2396\n",
       "budget                      0\n",
       "genres                      7\n",
       "homepage                 2054\n",
       "imdb_id                     0\n",
       "original_language           0\n",
       "original_title              0\n",
       "overview                    8\n",
       "popularity                  0\n",
       "poster_path                 1\n",
       "production_companies      156\n",
       "production_countries       55\n",
       "release_date                0\n",
       "runtime                     2\n",
       "spoken_languages           20\n",
       "status                      0\n",
       "tagline                   597\n",
       "title                       0\n",
       "Keywords                  276\n",
       "cast                       13\n",
       "crew                       16\n",
       "revenue                     0\n",
       "dtype: int64"
      ]
     },
     "execution_count": 8,
     "metadata": {},
     "output_type": "execute_result"
    }
   ],
   "source": [
    "df.isnull().sum()"
   ]
  },
  {
   "cell_type": "markdown",
   "id": "0e77680a-7a15-472e-8fe8-f5aa61a2b6f2",
   "metadata": {},
   "source": [
    "# We only need these columns"
   ]
  },
  {
   "cell_type": "code",
   "execution_count": null,
   "id": "249c1be1-4cfa-4b62-880c-4e9b24a5e135",
   "metadata": {},
   "outputs": [],
   "source": [
    "df = df[['title','genres','popularity','cast','crew','imdb_id']]"
   ]
  },
  {
   "cell_type": "code",
   "execution_count": null,
   "id": "9cd0b506-7360-4255-9883-06f661495f72",
   "metadata": {},
   "outputs": [
    {
     "data": {
      "text/html": [
       "<div>\n",
       "<style scoped>\n",
       "    .dataframe tbody tr th:only-of-type {\n",
       "        vertical-align: middle;\n",
       "    }\n",
       "\n",
       "    .dataframe tbody tr th {\n",
       "        vertical-align: top;\n",
       "    }\n",
       "\n",
       "    .dataframe thead th {\n",
       "        text-align: right;\n",
       "    }\n",
       "</style>\n",
       "<table border=\"1\" class=\"dataframe\">\n",
       "  <thead>\n",
       "    <tr style=\"text-align: right;\">\n",
       "      <th></th>\n",
       "      <th>title</th>\n",
       "      <th>genres</th>\n",
       "      <th>popularity</th>\n",
       "      <th>cast</th>\n",
       "      <th>crew</th>\n",
       "      <th>imdb_id</th>\n",
       "    </tr>\n",
       "    <tr>\n",
       "      <th>id</th>\n",
       "      <th></th>\n",
       "      <th></th>\n",
       "      <th></th>\n",
       "      <th></th>\n",
       "      <th></th>\n",
       "      <th></th>\n",
       "    </tr>\n",
       "  </thead>\n",
       "  <tbody>\n",
       "    <tr>\n",
       "      <th>1</th>\n",
       "      <td>Hot Tub Time Machine 2</td>\n",
       "      <td>[{'id': 35, 'name': 'Comedy'}]</td>\n",
       "      <td>6.575393</td>\n",
       "      <td>[{'cast_id': 4, 'character': 'Lou', 'credit_id...</td>\n",
       "      <td>[{'credit_id': '59ac067c92514107af02c8c8', 'de...</td>\n",
       "      <td>tt2637294</td>\n",
       "    </tr>\n",
       "    <tr>\n",
       "      <th>2</th>\n",
       "      <td>The Princess Diaries 2: Royal Engagement</td>\n",
       "      <td>[{'id': 35, 'name': 'Comedy'}, {'id': 18, 'nam...</td>\n",
       "      <td>8.248895</td>\n",
       "      <td>[{'cast_id': 1, 'character': 'Mia Thermopolis'...</td>\n",
       "      <td>[{'credit_id': '52fe43fe9251416c7502563d', 'de...</td>\n",
       "      <td>tt0368933</td>\n",
       "    </tr>\n",
       "    <tr>\n",
       "      <th>3</th>\n",
       "      <td>Whiplash</td>\n",
       "      <td>[{'id': 18, 'name': 'Drama'}]</td>\n",
       "      <td>64.299990</td>\n",
       "      <td>[{'cast_id': 5, 'character': 'Andrew Neimann',...</td>\n",
       "      <td>[{'credit_id': '54d5356ec3a3683ba0000039', 'de...</td>\n",
       "      <td>tt2582802</td>\n",
       "    </tr>\n",
       "    <tr>\n",
       "      <th>4</th>\n",
       "      <td>Kahaani</td>\n",
       "      <td>[{'id': 53, 'name': 'Thriller'}, {'id': 18, 'n...</td>\n",
       "      <td>3.174936</td>\n",
       "      <td>[{'cast_id': 1, 'character': 'Vidya Bagchi', '...</td>\n",
       "      <td>[{'credit_id': '52fe48779251416c9108d6eb', 'de...</td>\n",
       "      <td>tt1821480</td>\n",
       "    </tr>\n",
       "    <tr>\n",
       "      <th>5</th>\n",
       "      <td>Marine Boy</td>\n",
       "      <td>[{'id': 28, 'name': 'Action'}, {'id': 53, 'nam...</td>\n",
       "      <td>1.148070</td>\n",
       "      <td>[{'cast_id': 3, 'character': 'Chun-soo', 'cred...</td>\n",
       "      <td>[{'credit_id': '52fe464b9251416c75073b43', 'de...</td>\n",
       "      <td>tt1380152</td>\n",
       "    </tr>\n",
       "  </tbody>\n",
       "</table>\n",
       "</div>"
      ],
      "text/plain": [
       "                                       title  \\\n",
       "id                                             \n",
       "1                     Hot Tub Time Machine 2   \n",
       "2   The Princess Diaries 2: Royal Engagement   \n",
       "3                                   Whiplash   \n",
       "4                                    Kahaani   \n",
       "5                                 Marine Boy   \n",
       "\n",
       "                                               genres  popularity  \\\n",
       "id                                                                  \n",
       "1                      [{'id': 35, 'name': 'Comedy'}]    6.575393   \n",
       "2   [{'id': 35, 'name': 'Comedy'}, {'id': 18, 'nam...    8.248895   \n",
       "3                       [{'id': 18, 'name': 'Drama'}]   64.299990   \n",
       "4   [{'id': 53, 'name': 'Thriller'}, {'id': 18, 'n...    3.174936   \n",
       "5   [{'id': 28, 'name': 'Action'}, {'id': 53, 'nam...    1.148070   \n",
       "\n",
       "                                                 cast  \\\n",
       "id                                                      \n",
       "1   [{'cast_id': 4, 'character': 'Lou', 'credit_id...   \n",
       "2   [{'cast_id': 1, 'character': 'Mia Thermopolis'...   \n",
       "3   [{'cast_id': 5, 'character': 'Andrew Neimann',...   \n",
       "4   [{'cast_id': 1, 'character': 'Vidya Bagchi', '...   \n",
       "5   [{'cast_id': 3, 'character': 'Chun-soo', 'cred...   \n",
       "\n",
       "                                                 crew    imdb_id  \n",
       "id                                                                \n",
       "1   [{'credit_id': '59ac067c92514107af02c8c8', 'de...  tt2637294  \n",
       "2   [{'credit_id': '52fe43fe9251416c7502563d', 'de...  tt0368933  \n",
       "3   [{'credit_id': '54d5356ec3a3683ba0000039', 'de...  tt2582802  \n",
       "4   [{'credit_id': '52fe48779251416c9108d6eb', 'de...  tt1821480  \n",
       "5   [{'credit_id': '52fe464b9251416c75073b43', 'de...  tt1380152  "
      ]
     },
     "execution_count": 10,
     "metadata": {},
     "output_type": "execute_result"
    }
   ],
   "source": [
    "df.head()"
   ]
  },
  {
   "cell_type": "code",
   "execution_count": null,
   "id": "8f207175-007d-4242-a1ca-6304276499e2",
   "metadata": {},
   "outputs": [
    {
     "data": {
      "text/plain": [
       "title          0\n",
       "genres         7\n",
       "popularity     0\n",
       "cast          13\n",
       "crew          16\n",
       "imdb_id        0\n",
       "dtype: int64"
      ]
     },
     "execution_count": 11,
     "metadata": {},
     "output_type": "execute_result"
    }
   ],
   "source": [
    "df.isnull().sum()"
   ]
  },
  {
   "cell_type": "markdown",
   "id": "44c70d9b-0de8-49bf-8af6-1df7e3331317",
   "metadata": {},
   "source": [
    "# Dropping all null rows"
   ]
  },
  {
   "cell_type": "code",
   "execution_count": null,
   "id": "8fa7abd9-430b-48a6-b1f5-543a0e235590",
   "metadata": {},
   "outputs": [],
   "source": [
    "df.dropna(inplace=True)"
   ]
  },
  {
   "cell_type": "code",
   "execution_count": null,
   "id": "57e6a12c-588d-4450-a97a-e6921e6d55e8",
   "metadata": {},
   "outputs": [
    {
     "data": {
      "text/plain": [
       "title         0\n",
       "genres        0\n",
       "popularity    0\n",
       "cast          0\n",
       "crew          0\n",
       "imdb_id       0\n",
       "dtype: int64"
      ]
     },
     "execution_count": 13,
     "metadata": {},
     "output_type": "execute_result"
    }
   ],
   "source": [
    "df.isnull().sum()"
   ]
  },
  {
   "cell_type": "code",
   "execution_count": null,
   "id": "533f8af1-b659-470f-af89-8c0ea72e7ac0",
   "metadata": {},
   "outputs": [
    {
     "data": {
      "text/plain": [
       "(2978, 6)"
      ]
     },
     "execution_count": 14,
     "metadata": {},
     "output_type": "execute_result"
    }
   ],
   "source": [
    "df.shape"
   ]
  },
  {
   "cell_type": "code",
   "execution_count": null,
   "id": "dc2862c7-19c2-484b-b5ad-0bfc7641fc49",
   "metadata": {},
   "outputs": [
    {
     "data": {
      "text/plain": [
       "title          object\n",
       "genres         object\n",
       "popularity    float64\n",
       "cast           object\n",
       "crew           object\n",
       "imdb_id        object\n",
       "dtype: object"
      ]
     },
     "execution_count": 15,
     "metadata": {},
     "output_type": "execute_result"
    }
   ],
   "source": [
    "df.dtypes"
   ]
  },
  {
   "cell_type": "markdown",
   "id": "29272460-8fc6-4753-a4f9-05e3eb7ca8ba",
   "metadata": {},
   "source": [
    "# Converting the objects into proper lists\n"
   ]
  },
  {
   "cell_type": "code",
   "execution_count": null,
   "id": "1af31c3d-1d8e-40c5-8c5c-653b78738b71",
   "metadata": {},
   "outputs": [],
   "source": [
    "df['genres'] = df['genres'].apply(lambda x: eval(x))"
   ]
  },
  {
   "cell_type": "code",
   "execution_count": null,
   "id": "6b4f689d-38d4-4521-9850-a5ee4c522b94",
   "metadata": {},
   "outputs": [],
   "source": [
    "df['cast'] = df['cast'].apply(lambda x: eval(x))"
   ]
  },
  {
   "cell_type": "code",
   "execution_count": 18,
   "id": "3dc2b742-892c-40c4-927d-cee83e5f4f28",
   "metadata": {},
   "outputs": [],
   "source": [
    "df['crew'] = df['crew'].apply(lambda x: eval(x))"
   ]
  },
  {
   "cell_type": "markdown",
   "id": "a731ac25-af98-4187-aa65-2157d59e9f94",
   "metadata": {},
   "source": [
    "# Extracting genres, top 3 actors and directors from the json objects"
   ]
  },
  {
   "cell_type": "code",
   "execution_count": 19,
   "id": "cae024b4-7f7d-4f27-b36e-b6e1f146504e",
   "metadata": {},
   "outputs": [],
   "source": [
    "def get_genres_list(genres):\n",
    "    Genres_list = []\n",
    "    for i,n in enumerate(genres):\n",
    "        genre = genres[i]['name']\n",
    "        Genres_list.append(genre)\n",
    "    return Genres_list"
   ]
  },
  {
   "cell_type": "code",
   "execution_count": 20,
   "id": "6be72f93-d496-48d6-a8f9-1e176c638625",
   "metadata": {},
   "outputs": [],
   "source": [
    "df['Genre list'] = df['genres'].apply(get_genres_list)"
   ]
  },
  {
   "cell_type": "code",
   "execution_count": 21,
   "id": "36f6d9ce-c875-4d79-804a-a2232597eb24",
   "metadata": {},
   "outputs": [],
   "source": [
    "def get_actors_list(cast):\n",
    "    actor_list = []\n",
    "    for i,n in enumerate(cast):\n",
    "        actor = cast[i]['name']\n",
    "        actor_list.append(actor)\n",
    "        if len(actor_list) == 3:\n",
    "            break\n",
    "    return actor_list"
   ]
  },
  {
   "cell_type": "code",
   "execution_count": 22,
   "id": "8b41c4be-668a-4d5f-8bd8-48c89ff3be08",
   "metadata": {},
   "outputs": [],
   "source": [
    "df['Top actor list'] = df['cast'].apply(get_actors_list)"
   ]
  },
  {
   "cell_type": "code",
   "execution_count": 24,
   "id": "d16d28f4-8a36-4c6f-ad85-556cea2754bf",
   "metadata": {},
   "outputs": [],
   "source": [
    "def get_director_list(crew):\n",
    "    director_list = []\n",
    "    for i,n in enumerate(crew):\n",
    "        if crew[i]['job'] == 'Director':\n",
    "            director = crew[i]['name']\n",
    "            director_list.append(director)        \n",
    "    return list(set(director_list))"
   ]
  },
  {
   "cell_type": "code",
   "execution_count": 25,
   "id": "26a47977-d76d-4b52-b27f-3ad98f90d030",
   "metadata": {},
   "outputs": [],
   "source": [
    "df['Director list'] = df['crew'].apply(get_director_list)"
   ]
  },
  {
   "cell_type": "markdown",
   "id": "c177670f-d741-4372-88fc-a54fee6c3e97",
   "metadata": {},
   "source": [
    "# We won't be needing those object columns now"
   ]
  },
  {
   "cell_type": "code",
   "execution_count": 27,
   "id": "2ee21de6-17a5-47fd-a9dd-1564da864d34",
   "metadata": {},
   "outputs": [],
   "source": [
    "df.drop(['genres','crew','cast'],axis=1,inplace=True)"
   ]
  },
  {
   "cell_type": "code",
   "execution_count": 28,
   "id": "0ee8a382-7fab-4cef-80bd-9fd4b4076794",
   "metadata": {},
   "outputs": [
    {
     "data": {
      "text/html": [
       "<div>\n",
       "<style scoped>\n",
       "    .dataframe tbody tr th:only-of-type {\n",
       "        vertical-align: middle;\n",
       "    }\n",
       "\n",
       "    .dataframe tbody tr th {\n",
       "        vertical-align: top;\n",
       "    }\n",
       "\n",
       "    .dataframe thead th {\n",
       "        text-align: right;\n",
       "    }\n",
       "</style>\n",
       "<table border=\"1\" class=\"dataframe\">\n",
       "  <thead>\n",
       "    <tr style=\"text-align: right;\">\n",
       "      <th></th>\n",
       "      <th>title</th>\n",
       "      <th>popularity</th>\n",
       "      <th>imdb_id</th>\n",
       "      <th>Genre list</th>\n",
       "      <th>Top actor list</th>\n",
       "      <th>Director list</th>\n",
       "    </tr>\n",
       "    <tr>\n",
       "      <th>id</th>\n",
       "      <th></th>\n",
       "      <th></th>\n",
       "      <th></th>\n",
       "      <th></th>\n",
       "      <th></th>\n",
       "      <th></th>\n",
       "    </tr>\n",
       "  </thead>\n",
       "  <tbody>\n",
       "    <tr>\n",
       "      <th>1</th>\n",
       "      <td>Hot Tub Time Machine 2</td>\n",
       "      <td>6.575393</td>\n",
       "      <td>tt2637294</td>\n",
       "      <td>[Comedy]</td>\n",
       "      <td>[Rob Corddry, Craig Robinson, Clark Duke]</td>\n",
       "      <td>[Steve Pink]</td>\n",
       "    </tr>\n",
       "    <tr>\n",
       "      <th>2</th>\n",
       "      <td>The Princess Diaries 2: Royal Engagement</td>\n",
       "      <td>8.248895</td>\n",
       "      <td>tt0368933</td>\n",
       "      <td>[Comedy, Drama, Family, Romance]</td>\n",
       "      <td>[Anne Hathaway, Julie Andrews, H√©ctor Elizondo]</td>\n",
       "      <td>[Garry Marshall]</td>\n",
       "    </tr>\n",
       "    <tr>\n",
       "      <th>3</th>\n",
       "      <td>Whiplash</td>\n",
       "      <td>64.299990</td>\n",
       "      <td>tt2582802</td>\n",
       "      <td>[Drama]</td>\n",
       "      <td>[Miles Teller, J.K. Simmons, Melissa Benoist]</td>\n",
       "      <td>[Damien Chazelle]</td>\n",
       "    </tr>\n",
       "    <tr>\n",
       "      <th>4</th>\n",
       "      <td>Kahaani</td>\n",
       "      <td>3.174936</td>\n",
       "      <td>tt1821480</td>\n",
       "      <td>[Thriller, Drama]</td>\n",
       "      <td>[Vidya Balan, Nawazuddin Siddiqui, Parambrata ...</td>\n",
       "      <td>[Sujoy Ghosh]</td>\n",
       "    </tr>\n",
       "    <tr>\n",
       "      <th>5</th>\n",
       "      <td>Marine Boy</td>\n",
       "      <td>1.148070</td>\n",
       "      <td>tt1380152</td>\n",
       "      <td>[Action, Thriller]</td>\n",
       "      <td>[Kim Kang-woo, Jo Jae-hyeon, Park Si-yeon]</td>\n",
       "      <td>[Jong-seok Yoon]</td>\n",
       "    </tr>\n",
       "  </tbody>\n",
       "</table>\n",
       "</div>"
      ],
      "text/plain": [
       "                                       title  popularity    imdb_id  \\\n",
       "id                                                                    \n",
       "1                     Hot Tub Time Machine 2    6.575393  tt2637294   \n",
       "2   The Princess Diaries 2: Royal Engagement    8.248895  tt0368933   \n",
       "3                                   Whiplash   64.299990  tt2582802   \n",
       "4                                    Kahaani    3.174936  tt1821480   \n",
       "5                                 Marine Boy    1.148070  tt1380152   \n",
       "\n",
       "                          Genre list  \\\n",
       "id                                     \n",
       "1                           [Comedy]   \n",
       "2   [Comedy, Drama, Family, Romance]   \n",
       "3                            [Drama]   \n",
       "4                  [Thriller, Drama]   \n",
       "5                 [Action, Thriller]   \n",
       "\n",
       "                                       Top actor list      Director list  \n",
       "id                                                                        \n",
       "1           [Rob Corddry, Craig Robinson, Clark Duke]       [Steve Pink]  \n",
       "2    [Anne Hathaway, Julie Andrews, H√©ctor Elizondo]   [Garry Marshall]  \n",
       "3       [Miles Teller, J.K. Simmons, Melissa Benoist]  [Damien Chazelle]  \n",
       "4   [Vidya Balan, Nawazuddin Siddiqui, Parambrata ...      [Sujoy Ghosh]  \n",
       "5          [Kim Kang-woo, Jo Jae-hyeon, Park Si-yeon]   [Jong-seok Yoon]  "
      ]
     },
     "execution_count": 28,
     "metadata": {},
     "output_type": "execute_result"
    }
   ],
   "source": [
    "df.head()"
   ]
  },
  {
   "cell_type": "markdown",
   "id": "a2fa90d3-a070-4d47-a024-ac8f56d4936e",
   "metadata": {},
   "source": [
    "# Creating a list of all unique genres, actors and directors"
   ]
  },
  {
   "cell_type": "code",
   "execution_count": 29,
   "id": "9f267dd3-7d47-4a4b-9cca-4c194dbfde44",
   "metadata": {},
   "outputs": [],
   "source": [
    "def create_unique_list(colname):\n",
    "    dict_copy = df.to_dict('records')\n",
    "    mega_list = []\n",
    "    for r in dict_copy:\n",
    "        mega_list.append(r[colname])\n",
    "    tmp = []\n",
    "    for i in mega_list:\n",
    "        for j in i:\n",
    "            tmp.append(j)\n",
    "    unique_list = list(set(tmp))\n",
    "    return unique_list"
   ]
  },
  {
   "cell_type": "code",
   "execution_count": 30,
   "id": "62a14e69-96d6-4fad-a1ee-6a06dfcdfbbb",
   "metadata": {},
   "outputs": [],
   "source": [
    "genre_list = create_unique_list('Genre list')"
   ]
  },
  {
   "cell_type": "code",
   "execution_count": 31,
   "id": "8bfeff0d-825f-4c7c-8682-67c5f1029c01",
   "metadata": {},
   "outputs": [],
   "source": [
    "actor_list = create_unique_list('Top actor list')"
   ]
  },
  {
   "cell_type": "code",
   "execution_count": 32,
   "id": "1d625824-9f63-48b5-a7d7-0fed9ba847a9",
   "metadata": {},
   "outputs": [],
   "source": [
    "dir_list = create_unique_list('Director list')"
   ]
  },
  {
   "cell_type": "markdown",
   "id": "7d2dfdf1-f7c1-4b59-8362-19993f9bce71",
   "metadata": {},
   "source": [
    "# Creating binary list to calculate distances using scipy.spatial"
   ]
  },
  {
   "cell_type": "code",
   "execution_count": 33,
   "id": "56e241ce-d5bb-4a9e-be6c-bf0b5e3ffe71",
   "metadata": {},
   "outputs": [],
   "source": [
    "def create_bin(listt,unique_list):\n",
    "    binary_list = []    \n",
    "    for i in unique_list:\n",
    "        if i in listt:\n",
    "            binary_list.append(1)\n",
    "        else:\n",
    "            binary_list.append(0)\n",
    "    \n",
    "    return binary_list"
   ]
  },
  {
   "cell_type": "code",
   "execution_count": 34,
   "id": "3d15f960-ea0c-4a8a-978f-72bc2d803bc7",
   "metadata": {},
   "outputs": [],
   "source": [
    "df['Genres bin'] = df['Genre list'].apply(lambda x: create_bin(x,genre_list))"
   ]
  },
  {
   "cell_type": "code",
   "execution_count": 35,
   "id": "ac1d0d24-1ff0-4fb9-ab65-95f3f15f2018",
   "metadata": {},
   "outputs": [],
   "source": [
    "df['Actors bin'] = df['Top actor list'].apply(lambda x: create_bin(x,actor_list))"
   ]
  },
  {
   "cell_type": "code",
   "execution_count": 36,
   "id": "d824bf15-34d8-44ff-9dc8-8f28ebfc5d63",
   "metadata": {},
   "outputs": [],
   "source": [
    "df['Director bin'] = df['Director list'].apply(lambda x: create_bin(x,dir_list))"
   ]
  },
  {
   "cell_type": "markdown",
   "id": "34da4db5-1906-4c65-bb63-21ea7bf81822",
   "metadata": {},
   "source": [
    "# Standardizing the popularity column"
   ]
  },
  {
   "cell_type": "code",
   "execution_count": 38,
   "id": "7d6be162-7ac8-43da-90c6-e6266857c2de",
   "metadata": {},
   "outputs": [],
   "source": [
    "scaler = StandardScaler()\n",
    "df[['popularity']] = scaler.fit_transform(df[['popularity']])"
   ]
  },
  {
   "cell_type": "markdown",
   "id": "4b091725-1e5f-44e9-a3dd-4a5c3301af13",
   "metadata": {},
   "source": [
    "# Creating a function that will scrap the poster links of all movies using bs4"
   ]
  },
  {
   "cell_type": "code",
   "execution_count": 79,
   "id": "751d1ff7-f497-4267-a986-d1d6953c2298",
   "metadata": {},
   "outputs": [],
   "source": [
    "def get_poster_link(idd):\n",
    "    try:\n",
    "        IMG_PATTERN = 'https://api.themoviedb.org/3/movie/{imdbid}/images?api_key=b45e811daee9d8cc54e24fd82c7653d0'\n",
    "        r = requests.get(IMG_PATTERN.format(imdbid=idd))\n",
    "        api_response = r.json()\n",
    "        posters = api_response['posters'][0]\n",
    "        rel_path = posters['file_path']\n",
    "        url = f\"https://www.themoviedb.org/t/p/original/{rel_path}\"\n",
    "        return url\n",
    "    except:\n",
    "        return np.nan"
   ]
  },
  {
   "cell_type": "code",
   "execution_count": 80,
   "id": "993e40ad-119a-4d03-99a7-2a1398ba8889",
   "metadata": {},
   "outputs": [],
   "source": [
    "df['posters'] = df['imdb_id'].apply(lambda x : get_poster_link(x))"
   ]
  },
  {
   "cell_type": "markdown",
   "id": "dae52874-b776-4290-8f11-d696ff096a1b",
   "metadata": {},
   "source": [
    "# Dropping the null values in case any poster link is missing"
   ]
  },
  {
   "cell_type": "code",
   "execution_count": 85,
   "id": "73e7a9db-3bca-465f-a28c-ab86c6291f03",
   "metadata": {},
   "outputs": [],
   "source": [
    "df.dropna(inplace=True)"
   ]
  },
  {
   "cell_type": "markdown",
   "id": "b047b041-3813-4a70-af93-20ec99cc4584",
   "metadata": {},
   "source": [
    "# Import the cleaned dataset into the working directory"
   ]
  },
  {
   "cell_type": "code",
   "execution_count": 87,
   "id": "7eb8ee66",
   "metadata": {},
   "outputs": [],
   "source": [
    "df.to_csv(\"movie_data.csv\")"
   ]
  }
 ],
 "metadata": {
  "kernelspec": {
   "display_name": "Python 3 (ipykernel)",
   "language": "python",
   "name": "python3"
  },
  "language_info": {
   "codemirror_mode": {
    "name": "ipython",
    "version": 3
   },
   "file_extension": ".py",
   "mimetype": "text/x-python",
   "name": "python",
   "nbconvert_exporter": "python",
   "pygments_lexer": "ipython3",
   "version": "3.8.7"
  }
 },
 "nbformat": 4,
 "nbformat_minor": 5
}
